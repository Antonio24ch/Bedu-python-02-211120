{
 "cells": [
  {
   "cell_type": "markdown",
   "metadata": {},
   "source": [
    "### Agregar a cada precio el 16% de iva e imprimirlo"
   ]
  },
  {
   "cell_type": "code",
   "execution_count": 2,
   "metadata": {},
   "outputs": [],
   "source": [
    "precios_con_iva = [415, 90, 355, 385, 115, 100, 250, 660] "
   ]
  },
  {
   "cell_type": "code",
   "execution_count": 3,
   "metadata": {},
   "outputs": [
    {
     "name": "stdout",
     "output_type": "stream",
     "text": [
      "El iva de $415 es: $ 66.4\n",
      "El iva de $90 es: $ 14.4\n",
      "El iva de $355 es: $ 56.8\n",
      "El iva de $385 es: $ 61.6\n",
      "El iva de $115 es: $ 18.4\n",
      "El iva de $100 es: $ 16.0\n",
      "El iva de $250 es: $ 40.0\n",
      "El iva de $660 es: $ 105.6\n"
     ]
    }
   ],
   "source": [
    "for n in precios_con_iva:\n",
    "    result = n * 0.16\n",
    "    print(f'El iva de ${n} es: $',round(result,2))"
   ]
  }
 ],
 "metadata": {
  "kernelspec": {
   "display_name": "Python 3",
   "language": "python",
   "name": "python3"
  },
  "language_info": {
   "codemirror_mode": {
    "name": "ipython",
    "version": 3
   },
   "file_extension": ".py",
   "mimetype": "text/x-python",
   "name": "python",
   "nbconvert_exporter": "python",
   "pygments_lexer": "ipython3",
   "version": "3.9.0"
  }
 },
 "nbformat": 4,
 "nbformat_minor": 4
}
